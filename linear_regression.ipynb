{
 "cells": [
  {
   "cell_type": "code",
   "execution_count": 1,
   "id": "f6049d3f-b81d-4c94-83f2-035de47c0d67",
   "metadata": {},
   "outputs": [],
   "source": [
    "import pandas as pd\n",
    "import numpy as np\n",
    "import matplotlib.pyplot as plt\n",
    "import random\n",
    "from sklearn.linear_model import LinearRegression\n",
    "from sklearn.model_selection import train_test_split\n",
    "import seaborn as sns\n",
    "from sklearn.metrics import r2_score"
   ]
  },
  {
   "cell_type": "code",
   "execution_count": 2,
   "id": "0b41dbbe-fa4b-453f-bebf-0bd306acb60e",
   "metadata": {},
   "outputs": [
    {
     "data": {
      "text/html": [
       "<div>\n",
       "<style scoped>\n",
       "    .dataframe tbody tr th:only-of-type {\n",
       "        vertical-align: middle;\n",
       "    }\n",
       "\n",
       "    .dataframe tbody tr th {\n",
       "        vertical-align: top;\n",
       "    }\n",
       "\n",
       "    .dataframe thead th {\n",
       "        text-align: right;\n",
       "    }\n",
       "</style>\n",
       "<table border=\"1\" class=\"dataframe\">\n",
       "  <thead>\n",
       "    <tr style=\"text-align: right;\">\n",
       "      <th></th>\n",
       "      <th>Serial No.</th>\n",
       "      <th>GRE Score</th>\n",
       "      <th>TOEFL Score</th>\n",
       "      <th>University Rating</th>\n",
       "      <th>SOP</th>\n",
       "      <th>LOR</th>\n",
       "      <th>CGPA</th>\n",
       "      <th>Research</th>\n",
       "      <th>Chance of Admit</th>\n",
       "    </tr>\n",
       "  </thead>\n",
       "  <tbody>\n",
       "    <tr>\n",
       "      <th>0</th>\n",
       "      <td>1</td>\n",
       "      <td>337</td>\n",
       "      <td>118</td>\n",
       "      <td>4</td>\n",
       "      <td>4.5</td>\n",
       "      <td>4.5</td>\n",
       "      <td>9.65</td>\n",
       "      <td>1</td>\n",
       "      <td>0.92</td>\n",
       "    </tr>\n",
       "    <tr>\n",
       "      <th>1</th>\n",
       "      <td>2</td>\n",
       "      <td>324</td>\n",
       "      <td>107</td>\n",
       "      <td>4</td>\n",
       "      <td>4.0</td>\n",
       "      <td>4.5</td>\n",
       "      <td>8.87</td>\n",
       "      <td>1</td>\n",
       "      <td>0.76</td>\n",
       "    </tr>\n",
       "    <tr>\n",
       "      <th>2</th>\n",
       "      <td>3</td>\n",
       "      <td>316</td>\n",
       "      <td>104</td>\n",
       "      <td>3</td>\n",
       "      <td>3.0</td>\n",
       "      <td>3.5</td>\n",
       "      <td>8.00</td>\n",
       "      <td>1</td>\n",
       "      <td>0.72</td>\n",
       "    </tr>\n",
       "    <tr>\n",
       "      <th>3</th>\n",
       "      <td>4</td>\n",
       "      <td>322</td>\n",
       "      <td>110</td>\n",
       "      <td>3</td>\n",
       "      <td>3.5</td>\n",
       "      <td>2.5</td>\n",
       "      <td>8.67</td>\n",
       "      <td>1</td>\n",
       "      <td>0.80</td>\n",
       "    </tr>\n",
       "    <tr>\n",
       "      <th>4</th>\n",
       "      <td>5</td>\n",
       "      <td>314</td>\n",
       "      <td>103</td>\n",
       "      <td>2</td>\n",
       "      <td>2.0</td>\n",
       "      <td>3.0</td>\n",
       "      <td>8.21</td>\n",
       "      <td>0</td>\n",
       "      <td>0.65</td>\n",
       "    </tr>\n",
       "  </tbody>\n",
       "</table>\n",
       "</div>"
      ],
      "text/plain": [
       "   Serial No.  GRE Score  TOEFL Score  University Rating  SOP  LOR   CGPA  \\\n",
       "0           1        337          118                  4  4.5   4.5  9.65   \n",
       "1           2        324          107                  4  4.0   4.5  8.87   \n",
       "2           3        316          104                  3  3.0   3.5  8.00   \n",
       "3           4        322          110                  3  3.5   2.5  8.67   \n",
       "4           5        314          103                  2  2.0   3.0  8.21   \n",
       "\n",
       "   Research  Chance of Admit   \n",
       "0         1              0.92  \n",
       "1         1              0.76  \n",
       "2         1              0.72  \n",
       "3         1              0.80  \n",
       "4         0              0.65  "
      ]
     },
     "execution_count": 2,
     "metadata": {},
     "output_type": "execute_result"
    }
   ],
   "source": [
    "df = pd.read_csv('./Admission_Predict.csv')\n",
    "df.head()"
   ]
  },
  {
   "cell_type": "code",
   "execution_count": 3,
   "id": "936ce39e-a777-434d-a965-e93a1f58695f",
   "metadata": {},
   "outputs": [
    {
     "name": "stdout",
     "output_type": "stream",
     "text": [
      "<class 'pandas.core.frame.DataFrame'>\n",
      "RangeIndex: 400 entries, 0 to 399\n",
      "Data columns (total 9 columns):\n",
      " #   Column             Non-Null Count  Dtype  \n",
      "---  ------             --------------  -----  \n",
      " 0   Serial No.         400 non-null    int64  \n",
      " 1   GRE Score          400 non-null    int64  \n",
      " 2   TOEFL Score        400 non-null    int64  \n",
      " 3   University Rating  400 non-null    int64  \n",
      " 4   SOP                400 non-null    float64\n",
      " 5   LOR                400 non-null    float64\n",
      " 6   CGPA               400 non-null    float64\n",
      " 7   Research           400 non-null    int64  \n",
      " 8   Chance of Admit    400 non-null    float64\n",
      "dtypes: float64(4), int64(5)\n",
      "memory usage: 28.2 KB\n"
     ]
    }
   ],
   "source": [
    "details = df.info()\n",
    "details\n"
   ]
  },
  {
   "cell_type": "code",
   "execution_count": 4,
   "id": "e88a1f0b-400e-413a-b43a-f61f3af3f2c2",
   "metadata": {},
   "outputs": [
    {
     "data": {
      "text/html": [
       "<div>\n",
       "<style scoped>\n",
       "    .dataframe tbody tr th:only-of-type {\n",
       "        vertical-align: middle;\n",
       "    }\n",
       "\n",
       "    .dataframe tbody tr th {\n",
       "        vertical-align: top;\n",
       "    }\n",
       "\n",
       "    .dataframe thead th {\n",
       "        text-align: right;\n",
       "    }\n",
       "</style>\n",
       "<table border=\"1\" class=\"dataframe\">\n",
       "  <thead>\n",
       "    <tr style=\"text-align: right;\">\n",
       "      <th></th>\n",
       "      <th>Serial No.</th>\n",
       "      <th>GRE Score</th>\n",
       "      <th>TOEFL Score</th>\n",
       "      <th>University Rating</th>\n",
       "      <th>SOP</th>\n",
       "      <th>LOR</th>\n",
       "      <th>CGPA</th>\n",
       "      <th>Research</th>\n",
       "      <th>Chance of Admit</th>\n",
       "    </tr>\n",
       "  </thead>\n",
       "  <tbody>\n",
       "    <tr>\n",
       "      <th>count</th>\n",
       "      <td>400.000000</td>\n",
       "      <td>400.000000</td>\n",
       "      <td>400.000000</td>\n",
       "      <td>400.000000</td>\n",
       "      <td>400.000000</td>\n",
       "      <td>400.000000</td>\n",
       "      <td>400.000000</td>\n",
       "      <td>400.000000</td>\n",
       "      <td>400.000000</td>\n",
       "    </tr>\n",
       "    <tr>\n",
       "      <th>mean</th>\n",
       "      <td>200.500000</td>\n",
       "      <td>316.807500</td>\n",
       "      <td>107.410000</td>\n",
       "      <td>3.087500</td>\n",
       "      <td>3.400000</td>\n",
       "      <td>3.452500</td>\n",
       "      <td>8.598925</td>\n",
       "      <td>0.547500</td>\n",
       "      <td>0.724350</td>\n",
       "    </tr>\n",
       "    <tr>\n",
       "      <th>std</th>\n",
       "      <td>115.614301</td>\n",
       "      <td>11.473646</td>\n",
       "      <td>6.069514</td>\n",
       "      <td>1.143728</td>\n",
       "      <td>1.006869</td>\n",
       "      <td>0.898478</td>\n",
       "      <td>0.596317</td>\n",
       "      <td>0.498362</td>\n",
       "      <td>0.142609</td>\n",
       "    </tr>\n",
       "    <tr>\n",
       "      <th>min</th>\n",
       "      <td>1.000000</td>\n",
       "      <td>290.000000</td>\n",
       "      <td>92.000000</td>\n",
       "      <td>1.000000</td>\n",
       "      <td>1.000000</td>\n",
       "      <td>1.000000</td>\n",
       "      <td>6.800000</td>\n",
       "      <td>0.000000</td>\n",
       "      <td>0.340000</td>\n",
       "    </tr>\n",
       "    <tr>\n",
       "      <th>25%</th>\n",
       "      <td>100.750000</td>\n",
       "      <td>308.000000</td>\n",
       "      <td>103.000000</td>\n",
       "      <td>2.000000</td>\n",
       "      <td>2.500000</td>\n",
       "      <td>3.000000</td>\n",
       "      <td>8.170000</td>\n",
       "      <td>0.000000</td>\n",
       "      <td>0.640000</td>\n",
       "    </tr>\n",
       "    <tr>\n",
       "      <th>50%</th>\n",
       "      <td>200.500000</td>\n",
       "      <td>317.000000</td>\n",
       "      <td>107.000000</td>\n",
       "      <td>3.000000</td>\n",
       "      <td>3.500000</td>\n",
       "      <td>3.500000</td>\n",
       "      <td>8.610000</td>\n",
       "      <td>1.000000</td>\n",
       "      <td>0.730000</td>\n",
       "    </tr>\n",
       "    <tr>\n",
       "      <th>75%</th>\n",
       "      <td>300.250000</td>\n",
       "      <td>325.000000</td>\n",
       "      <td>112.000000</td>\n",
       "      <td>4.000000</td>\n",
       "      <td>4.000000</td>\n",
       "      <td>4.000000</td>\n",
       "      <td>9.062500</td>\n",
       "      <td>1.000000</td>\n",
       "      <td>0.830000</td>\n",
       "    </tr>\n",
       "    <tr>\n",
       "      <th>max</th>\n",
       "      <td>400.000000</td>\n",
       "      <td>340.000000</td>\n",
       "      <td>120.000000</td>\n",
       "      <td>5.000000</td>\n",
       "      <td>5.000000</td>\n",
       "      <td>5.000000</td>\n",
       "      <td>9.920000</td>\n",
       "      <td>1.000000</td>\n",
       "      <td>0.970000</td>\n",
       "    </tr>\n",
       "  </tbody>\n",
       "</table>\n",
       "</div>"
      ],
      "text/plain": [
       "       Serial No.   GRE Score  TOEFL Score  University Rating         SOP  \\\n",
       "count  400.000000  400.000000   400.000000         400.000000  400.000000   \n",
       "mean   200.500000  316.807500   107.410000           3.087500    3.400000   \n",
       "std    115.614301   11.473646     6.069514           1.143728    1.006869   \n",
       "min      1.000000  290.000000    92.000000           1.000000    1.000000   \n",
       "25%    100.750000  308.000000   103.000000           2.000000    2.500000   \n",
       "50%    200.500000  317.000000   107.000000           3.000000    3.500000   \n",
       "75%    300.250000  325.000000   112.000000           4.000000    4.000000   \n",
       "max    400.000000  340.000000   120.000000           5.000000    5.000000   \n",
       "\n",
       "             LOR         CGPA    Research  Chance of Admit   \n",
       "count  400.000000  400.000000  400.000000        400.000000  \n",
       "mean     3.452500    8.598925    0.547500          0.724350  \n",
       "std      0.898478    0.596317    0.498362          0.142609  \n",
       "min      1.000000    6.800000    0.000000          0.340000  \n",
       "25%      3.000000    8.170000    0.000000          0.640000  \n",
       "50%      3.500000    8.610000    1.000000          0.730000  \n",
       "75%      4.000000    9.062500    1.000000          0.830000  \n",
       "max      5.000000    9.920000    1.000000          0.970000  "
      ]
     },
     "execution_count": 4,
     "metadata": {},
     "output_type": "execute_result"
    }
   ],
   "source": [
    "description = df.describe()\n",
    "description"
   ]
  },
  {
   "cell_type": "code",
   "execution_count": 5,
   "id": "3e5c73a0-0f85-45db-9eea-e7ff0f67a177",
   "metadata": {},
   "outputs": [
    {
     "data": {
      "text/plain": [
       "array([9.65, 8.87, 8.  , 8.67, 8.21, 9.34, 8.2 , 7.9 , 8.  , 8.6 , 8.4 ,\n",
       "       9.  , 9.1 , 8.  , 8.2 , 8.3 , 8.7 , 8.  , 8.8 , 8.5 , 7.9 , 8.4 ,\n",
       "       9.5 , 9.7 , 9.8 , 9.6 , 8.8 , 7.5 , 7.2 , 7.3 , 8.1 , 8.3 , 9.4 ,\n",
       "       9.6 , 9.8 , 9.2 , 8.4 , 7.8 , 7.5 , 7.7 , 8.  , 8.2 , 8.5 , 9.1 ,\n",
       "       9.4 , 9.1 , 9.3 , 9.7 , 8.85, 8.4 , 8.3 , 7.9 , 8.  , 8.1 , 8.  ,\n",
       "       7.7 , 7.4 , 7.6 , 6.8 , 8.3 , 8.1 , 8.2 , 8.2 , 8.5 , 8.7 , 8.92,\n",
       "       9.02, 8.64, 9.22, 9.16, 9.64, 9.76, 9.45, 9.04, 8.9 , 8.56, 8.72,\n",
       "       8.22, 7.54, 7.36, 8.02, 9.5 , 9.22, 9.36, 9.45, 8.66, 8.42, 8.28,\n",
       "       8.14, 8.76, 7.92, 7.66, 8.03, 7.88, 7.66, 7.84, 8.  , 8.96, 9.24,\n",
       "       8.88, 8.46, 8.12, 8.25, 8.47, 9.05, 8.78, 9.18, 9.46, 9.38, 8.64,\n",
       "       8.48, 8.68, 8.34, 8.56, 8.45, 9.04, 8.62, 7.46, 7.28, 8.84, 9.56,\n",
       "       9.48, 8.36, 8.22, 8.47, 8.66, 9.32, 8.71, 9.1 , 9.35, 9.76, 8.65,\n",
       "       8.56, 8.78, 9.28, 8.77, 8.45, 8.16, 9.08, 9.12, 9.15, 9.36, 9.44,\n",
       "       9.92, 8.96, 8.64, 8.48, 9.11, 9.8 , 8.26, 9.43, 9.28, 9.06, 8.75,\n",
       "       8.89, 8.69, 8.34, 8.26, 8.14, 7.9 , 7.86, 7.46, 8.5 , 8.56, 9.01,\n",
       "       8.97, 8.33, 8.27, 7.8 , 7.98, 8.04, 9.07, 9.13, 9.23, 8.97, 8.87,\n",
       "       9.16, 9.04, 8.12, 8.27, 8.16, 8.42, 7.88, 8.8 , 8.32, 9.11, 8.68,\n",
       "       9.44, 9.36, 9.08, 9.16, 8.98, 8.94, 9.53, 8.76, 8.52, 8.26, 8.33,\n",
       "       8.43, 8.69, 8.54, 8.46, 9.91, 9.87, 8.54, 7.65, 7.89, 8.02, 8.16,\n",
       "       8.12, 9.06, 9.14, 9.66, 9.78, 9.42, 9.36, 9.26, 9.13, 8.97, 8.42,\n",
       "       8.75, 8.56, 8.79, 8.45, 8.23, 8.03, 8.45, 8.53, 8.67, 9.01, 8.65,\n",
       "       8.33, 8.27, 8.07, 9.31, 9.23, 9.17, 9.19, 8.37, 7.89, 7.68, 8.15,\n",
       "       8.76, 9.04, 8.56, 9.02, 8.73, 8.48, 8.87, 8.83, 8.57, 9.  , 8.54,\n",
       "       9.68, 9.12, 8.37, 8.56, 8.64, 8.76, 9.34, 9.13, 8.09, 8.36, 8.79,\n",
       "       8.76, 8.68, 8.45, 8.17, 9.14, 8.34, 8.22, 7.86, 7.64, 8.01, 7.95,\n",
       "       8.96, 9.45, 8.62, 8.49, 8.73, 8.64, 9.11, 8.79, 8.9 , 9.66, 9.26,\n",
       "       9.19, 9.08, 9.02, 9.  , 7.65, 7.87, 7.97, 8.18, 8.32, 8.57, 8.67,\n",
       "       9.11, 9.24, 8.65, 8.  , 8.76, 8.45, 8.55, 8.43, 8.8 , 9.1 , 9.  ,\n",
       "       8.53, 8.6 , 8.74, 9.18, 9.  , 8.04, 8.13, 8.07, 7.86, 8.01, 8.8 ,\n",
       "       8.69, 8.5 , 8.44, 8.27, 8.18, 8.33, 9.14, 8.02, 7.86, 8.77, 7.89,\n",
       "       8.66, 8.12, 8.21, 8.54, 8.65, 9.11, 8.79, 9.47, 8.74, 8.66, 8.46,\n",
       "       8.76, 8.24, 8.13, 7.34, 7.43, 7.64, 7.34, 7.25, 8.04, 8.27, 8.67,\n",
       "       8.06, 8.17, 7.67, 8.12, 8.77, 7.89, 7.64, 8.44, 8.64, 9.54, 9.23,\n",
       "       8.36, 8.9 , 9.17, 8.34, 7.46, 7.88, 8.03, 8.24, 9.22, 9.62, 8.54,\n",
       "       7.65, 7.66, 7.43, 7.56, 7.65, 8.43, 8.84, 8.67, 9.15, 8.26, 9.74,\n",
       "       9.82, 7.96, 8.1 , 7.8 , 8.44, 8.24, 8.65, 9.12, 8.76, 9.23, 9.04,\n",
       "       9.11, 9.45, 8.78, 9.66])"
      ]
     },
     "execution_count": 5,
     "metadata": {},
     "output_type": "execute_result"
    }
   ],
   "source": [
    "x = df['CGPA'].values\n",
    "x"
   ]
  },
  {
   "cell_type": "code",
   "execution_count": 6,
   "id": "70a2a27e-3dc0-47bb-b743-d78347abf78c",
   "metadata": {},
   "outputs": [
    {
     "data": {
      "text/plain": [
       "array([0.92, 0.76, 0.72, 0.8 , 0.65, 0.9 , 0.75, 0.68, 0.5 , 0.45, 0.52,\n",
       "       0.84, 0.78, 0.62, 0.61, 0.54, 0.66, 0.65, 0.63, 0.62, 0.64, 0.7 ,\n",
       "       0.94, 0.95, 0.97, 0.94, 0.76, 0.44, 0.46, 0.54, 0.65, 0.74, 0.91,\n",
       "       0.9 , 0.94, 0.88, 0.64, 0.58, 0.52, 0.48, 0.46, 0.49, 0.53, 0.87,\n",
       "       0.91, 0.88, 0.86, 0.89, 0.82, 0.78, 0.76, 0.56, 0.78, 0.72, 0.7 ,\n",
       "       0.64, 0.64, 0.46, 0.36, 0.42, 0.48, 0.47, 0.54, 0.56, 0.52, 0.55,\n",
       "       0.61, 0.57, 0.68, 0.78, 0.94, 0.96, 0.93, 0.84, 0.74, 0.72, 0.74,\n",
       "       0.64, 0.44, 0.46, 0.5 , 0.96, 0.92, 0.92, 0.94, 0.76, 0.72, 0.66,\n",
       "       0.64, 0.74, 0.64, 0.38, 0.34, 0.44, 0.36, 0.42, 0.48, 0.86, 0.9 ,\n",
       "       0.79, 0.71, 0.64, 0.62, 0.57, 0.74, 0.69, 0.87, 0.91, 0.93, 0.68,\n",
       "       0.61, 0.69, 0.62, 0.72, 0.59, 0.66, 0.56, 0.45, 0.47, 0.71, 0.94,\n",
       "       0.94, 0.57, 0.61, 0.57, 0.64, 0.85, 0.78, 0.84, 0.92, 0.96, 0.77,\n",
       "       0.71, 0.79, 0.89, 0.82, 0.76, 0.71, 0.8 , 0.78, 0.84, 0.9 , 0.92,\n",
       "       0.97, 0.8 , 0.81, 0.75, 0.83, 0.96, 0.79, 0.93, 0.94, 0.86, 0.79,\n",
       "       0.8 , 0.77, 0.7 , 0.65, 0.61, 0.52, 0.57, 0.53, 0.67, 0.68, 0.81,\n",
       "       0.78, 0.65, 0.64, 0.64, 0.65, 0.68, 0.89, 0.86, 0.89, 0.87, 0.85,\n",
       "       0.9 , 0.82, 0.72, 0.73, 0.71, 0.71, 0.68, 0.75, 0.72, 0.89, 0.84,\n",
       "       0.93, 0.93, 0.88, 0.9 , 0.87, 0.86, 0.94, 0.77, 0.78, 0.73, 0.73,\n",
       "       0.7 , 0.72, 0.73, 0.72, 0.97, 0.97, 0.69, 0.57, 0.63, 0.66, 0.64,\n",
       "       0.68, 0.79, 0.82, 0.95, 0.96, 0.94, 0.93, 0.91, 0.85, 0.84, 0.74,\n",
       "       0.76, 0.75, 0.76, 0.71, 0.67, 0.61, 0.63, 0.64, 0.71, 0.82, 0.73,\n",
       "       0.74, 0.69, 0.64, 0.91, 0.88, 0.85, 0.86, 0.7 , 0.59, 0.6 , 0.65,\n",
       "       0.7 , 0.76, 0.63, 0.81, 0.72, 0.71, 0.8 , 0.77, 0.74, 0.7 , 0.71,\n",
       "       0.93, 0.85, 0.79, 0.76, 0.78, 0.77, 0.9 , 0.87, 0.71, 0.7 , 0.7 ,\n",
       "       0.75, 0.71, 0.72, 0.73, 0.83, 0.77, 0.72, 0.54, 0.49, 0.52, 0.58,\n",
       "       0.78, 0.89, 0.7 , 0.66, 0.67, 0.68, 0.8 , 0.81, 0.8 , 0.94, 0.93,\n",
       "       0.92, 0.89, 0.82, 0.79, 0.58, 0.56, 0.56, 0.64, 0.61, 0.68, 0.76,\n",
       "       0.86, 0.9 , 0.71, 0.62, 0.66, 0.65, 0.73, 0.62, 0.74, 0.79, 0.8 ,\n",
       "       0.69, 0.7 , 0.76, 0.84, 0.78, 0.67, 0.66, 0.65, 0.54, 0.58, 0.79,\n",
       "       0.8 , 0.75, 0.73, 0.72, 0.62, 0.67, 0.81, 0.63, 0.69, 0.8 , 0.43,\n",
       "       0.8 , 0.73, 0.75, 0.71, 0.73, 0.83, 0.72, 0.94, 0.81, 0.81, 0.75,\n",
       "       0.79, 0.58, 0.59, 0.47, 0.49, 0.47, 0.42, 0.57, 0.62, 0.74, 0.73,\n",
       "       0.64, 0.63, 0.59, 0.73, 0.79, 0.68, 0.7 , 0.81, 0.85, 0.93, 0.91,\n",
       "       0.69, 0.77, 0.86, 0.74, 0.57, 0.51, 0.67, 0.72, 0.89, 0.95, 0.79,\n",
       "       0.39, 0.38, 0.34, 0.47, 0.56, 0.71, 0.78, 0.73, 0.82, 0.62, 0.96,\n",
       "       0.96, 0.46, 0.53, 0.49, 0.76, 0.64, 0.71, 0.84, 0.77, 0.89, 0.82,\n",
       "       0.84, 0.91, 0.67, 0.95])"
      ]
     },
     "execution_count": 6,
     "metadata": {},
     "output_type": "execute_result"
    }
   ],
   "source": [
    "y = df['Chance of Admit '].values\n",
    "y"
   ]
  },
  {
   "cell_type": "code",
   "execution_count": 7,
   "id": "a5213ac0-b763-4fca-b132-d9b10548571c",
   "metadata": {},
   "outputs": [],
   "source": [
    "x = x.reshape(-1,1)\n"
   ]
  },
  {
   "cell_type": "code",
   "execution_count": 8,
   "id": "2f9f468e-b4a0-4572-8c9d-aa287eb62d48",
   "metadata": {},
   "outputs": [
    {
     "data": {
      "text/plain": [
       "Text(0, 0.5, 'Chance of Admit')"
      ]
     },
     "execution_count": 8,
     "metadata": {},
     "output_type": "execute_result"
    },
    {
     "data": {
      "image/png": "[encoded data removed]",
      "text/plain": [
       "<Figure size 432x288 with 1 Axes>"
      ]
     },
     "metadata": {
      "needs_background": "light"
     },
     "output_type": "display_data"
    }
   ],
   "source": [
    "x_train, x_test, y_train, y_test = train_test_split(x,y,train_size=0.4,test_size=0.6,random_state=100)\n",
    "plt.scatter(df['GRE Score'],df['Chance of Admit '])\n",
    "plt.xlabel('GRE Score')\n",
    "plt.ylabel('Chance of Admit')"
   ]
  },
  {
   "cell_type": "code",
   "execution_count": 9,
   "id": "d99edd79-a9f4-4222-a38a-ff3a31e21a0e",
   "metadata": {},
   "outputs": [
    {
     "data": {
      "text/plain": [
       "array([[8.  ],\n",
       "       [8.53],\n",
       "       [9.4 ],\n",
       "       [8.85],\n",
       "       [8.64],\n",
       "       [8.77],\n",
       "       [8.22],\n",
       "       [9.34],\n",
       "       [9.62],\n",
       "       [8.2 ],\n",
       "       [9.76],\n",
       "       [9.12],\n",
       "       [8.74],\n",
       "       [9.32],\n",
       "       [9.04],\n",
       "       [9.11],\n",
       "       [8.66],\n",
       "       [7.9 ],\n",
       "       [9.01],\n",
       "       [8.  ],\n",
       "       [9.87],\n",
       "       [8.89],\n",
       "       [8.06],\n",
       "       [8.27],\n",
       "       [7.3 ],\n",
       "       [8.34],\n",
       "       [9.12],\n",
       "       [8.6 ],\n",
       "       [8.02],\n",
       "       [8.5 ],\n",
       "       [8.68],\n",
       "       [8.43],\n",
       "       [9.04],\n",
       "       [8.43],\n",
       "       [8.12],\n",
       "       [8.87],\n",
       "       [8.66],\n",
       "       [8.12],\n",
       "       [9.08],\n",
       "       [7.64],\n",
       "       [8.2 ],\n",
       "       [8.64],\n",
       "       [8.88],\n",
       "       [8.37],\n",
       "       [8.34],\n",
       "       [7.8 ],\n",
       "       [9.08],\n",
       "       [9.26],\n",
       "       [9.22],\n",
       "       [9.36],\n",
       "       [9.1 ],\n",
       "       [8.45],\n",
       "       [7.9 ],\n",
       "       [9.14],\n",
       "       [8.04],\n",
       "       [7.65],\n",
       "       [8.5 ],\n",
       "       [9.17],\n",
       "       [7.89],\n",
       "       [8.73],\n",
       "       [9.14],\n",
       "       [8.27],\n",
       "       [8.28],\n",
       "       [8.74],\n",
       "       [7.7 ],\n",
       "       [9.5 ],\n",
       "       [9.11],\n",
       "       [8.5 ],\n",
       "       [8.12],\n",
       "       [9.  ],\n",
       "       [9.24],\n",
       "       [9.38],\n",
       "       [9.74],\n",
       "       [8.76],\n",
       "       [9.6 ],\n",
       "       [7.46],\n",
       "       [9.5 ],\n",
       "       [7.65],\n",
       "       [9.82],\n",
       "       [8.54],\n",
       "       [8.65],\n",
       "       [9.22],\n",
       "       [7.88],\n",
       "       [8.34],\n",
       "       [9.66],\n",
       "       [8.76],\n",
       "       [9.47],\n",
       "       [8.9 ],\n",
       "       [8.23],\n",
       "       [8.56],\n",
       "       [8.97],\n",
       "       [8.04],\n",
       "       [8.64],\n",
       "       [7.86],\n",
       "       [9.76],\n",
       "       [8.56],\n",
       "       [7.89],\n",
       "       [9.11],\n",
       "       [7.46],\n",
       "       [9.06],\n",
       "       [9.8 ],\n",
       "       [7.8 ],\n",
       "       [9.8 ],\n",
       "       [7.8 ],\n",
       "       [7.89],\n",
       "       [8.22],\n",
       "       [8.34],\n",
       "       [9.8 ],\n",
       "       [8.96],\n",
       "       [7.88],\n",
       "       [8.27],\n",
       "       [9.04],\n",
       "       [8.53],\n",
       "       [7.6 ],\n",
       "       [8.54],\n",
       "       [9.4 ],\n",
       "       [8.03],\n",
       "       [8.48],\n",
       "       [8.54],\n",
       "       [8.76],\n",
       "       [9.08],\n",
       "       [9.45],\n",
       "       [8.45],\n",
       "       [8.75],\n",
       "       [8.64],\n",
       "       [8.64],\n",
       "       [9.1 ],\n",
       "       [8.7 ],\n",
       "       [8.76],\n",
       "       [7.43],\n",
       "       [9.04],\n",
       "       [8.24],\n",
       "       [9.19],\n",
       "       [8.79],\n",
       "       [9.46],\n",
       "       [8.57],\n",
       "       [8.68],\n",
       "       [8.62],\n",
       "       [8.36],\n",
       "       [8.97],\n",
       "       [8.36],\n",
       "       [8.62],\n",
       "       [8.6 ],\n",
       "       [9.68],\n",
       "       [8.26],\n",
       "       [7.66],\n",
       "       [9.23],\n",
       "       [8.57],\n",
       "       [8.56],\n",
       "       [8.25],\n",
       "       [9.  ],\n",
       "       [8.72],\n",
       "       [8.84],\n",
       "       [9.19],\n",
       "       [8.45],\n",
       "       [7.84],\n",
       "       [8.04],\n",
       "       [8.44],\n",
       "       [7.66],\n",
       "       [9.42],\n",
       "       [7.5 ],\n",
       "       [8.09],\n",
       "       [8.4 ],\n",
       "       [8.65],\n",
       "       [8.16],\n",
       "       [9.16],\n",
       "       [8.66],\n",
       "       [9.36],\n",
       "       [8.02],\n",
       "       [9.66],\n",
       "       [8.21],\n",
       "       [9.64],\n",
       "       [8.65],\n",
       "       [9.11],\n",
       "       [9.04],\n",
       "       [9.65],\n",
       "       [8.65],\n",
       "       [8.77],\n",
       "       [9.22],\n",
       "       [8.65],\n",
       "       [8.  ],\n",
       "       [8.1 ],\n",
       "       [9.18],\n",
       "       [8.  ],\n",
       "       [9.45],\n",
       "       [8.01],\n",
       "       [9.91],\n",
       "       [8.94],\n",
       "       [7.95],\n",
       "       [9.13],\n",
       "       [8.32],\n",
       "       [8.27],\n",
       "       [8.55],\n",
       "       [8.37],\n",
       "       [9.  ],\n",
       "       [8.9 ],\n",
       "       [8.42],\n",
       "       [8.5 ],\n",
       "       [8.78],\n",
       "       [8.  ],\n",
       "       [8.79],\n",
       "       [9.  ],\n",
       "       [8.8 ],\n",
       "       [8.22],\n",
       "       [8.01],\n",
       "       [9.53],\n",
       "       [8.4 ],\n",
       "       [8.77],\n",
       "       [9.45],\n",
       "       [7.66],\n",
       "       [8.21],\n",
       "       [8.46],\n",
       "       [9.14],\n",
       "       [9.02],\n",
       "       [9.36],\n",
       "       [8.9 ],\n",
       "       [8.69],\n",
       "       [8.42],\n",
       "       [7.88],\n",
       "       [8.16],\n",
       "       [6.8 ],\n",
       "       [7.86],\n",
       "       [8.36],\n",
       "       [8.67],\n",
       "       [9.92],\n",
       "       [8.78],\n",
       "       [7.68],\n",
       "       [7.65],\n",
       "       [8.2 ],\n",
       "       [8.45],\n",
       "       [9.02],\n",
       "       [8.1 ],\n",
       "       [7.67],\n",
       "       [8.27],\n",
       "       [7.36],\n",
       "       [8.13],\n",
       "       [8.44],\n",
       "       [8.18],\n",
       "       [8.64],\n",
       "       [8.  ]])"
      ]
     },
     "execution_count": 9,
     "metadata": {},
     "output_type": "execute_result"
    }
   ],
   "source": [
    "x_train, x_test, y_train, y_test = train_test_split(x, y, test_size = 0.4, random_state = 100)\n",
    "x_train"
   ]
  },
  {
   "cell_type": "code",
   "execution_count": 10,
   "id": "00a3bbb0-9bbb-4900-bf5d-e689cdbf5d8d",
   "metadata": {},
   "outputs": [
    {
     "data": {
      "text/plain": [
       "Text(0, 0.5, 'Salary in $')"
      ]
     },
     "execution_count": 10,
     "metadata": {},
     "output_type": "execute_result"
    },
    {
     "data": {
      "image/png": "[encoded data removed]",
      "text/plain": [
       "<Figure size 432x288 with 1 Axes>"
      ]
     },
     "metadata": {
      "needs_background": "light"
     },
     "output_type": "display_data"
    }
   ],
   "source": [
    "%matplotlib inline\n",
    "plt.scatter(x_train, y_train, color='green')\n",
    "plt.xlabel('Years of experience')\n",
    "plt.ylabel('Salary in $')"
   ]
  },
  {
   "cell_type": "code",
   "execution_count": 11,
   "id": "7bc62b7d-7694-4fa5-896f-7299077f7b4b",
   "metadata": {},
   "outputs": [],
   "source": [
    "model = LinearRegression()\n"
   ]
  },
  {
   "cell_type": "code",
   "execution_count": 12,
   "id": "ec447719-3f79-42fc-8e53-571cdb45184b",
   "metadata": {},
   "outputs": [
    {
     "data": {
      "text/plain": [
       "LinearRegression()"
      ]
     },
     "execution_count": 12,
     "metadata": {},
     "output_type": "execute_result"
    }
   ],
   "source": [
    "model.fit(x_train, y_train)"
   ]
  },
  {
   "cell_type": "code",
   "execution_count": 13,
   "id": "2fb8de69-37a5-45da-befb-d9b99113cef0",
   "metadata": {},
   "outputs": [
    {
     "name": "stdout",
     "output_type": "stream",
     "text": [
      "Train accuracy 76.41 %\n",
      "Test accuracy 75.96 %\n"
     ]
    }
   ],
   "source": [
    "y_predict = model.predict(x_test)\n",
    "print(f\"Train accuracy {round(model.score(x_train,y_train)*100,2)} %\")\n",
    "print(f\"Test accuracy {round(model.score(x_test,y_test)*100,2)} %\")"
   ]
  },
  {
   "cell_type": "code",
   "execution_count": 14,
   "id": "15323c34-4092-486c-9241-21875532e253",
   "metadata": {},
   "outputs": [
    {
     "data": {
      "text/plain": [
       "<function matplotlib.pyplot.plot(*args, scalex=True, scaley=True, data=None, **kwargs)>"
      ]
     },
     "execution_count": 14,
     "metadata": {},
     "output_type": "execute_result"
    },
    {
     "data": {
      "image/png": "[encoded data removed]",
      "text/plain": [
       "<Figure size 432x288 with 1 Axes>"
      ]
     },
     "metadata": {
      "needs_background": "light"
     },
     "output_type": "display_data"
    }
   ],
   "source": [
    "plt.scatter(x_train, y_train, color = 'black')\n",
    "plt.plot(x_test, y_predict)\n",
    "plt.xlabel('Years of experience')\n",
    "plt.ylabel('Salary in $')\n",
    "plt.plot\n"
   ]
  },
  {
   "cell_type": "code",
   "execution_count": 15,
   "id": "83cf70fb-8df6-4606-84a5-5d90509b4917",
   "metadata": {},
   "outputs": [
    {
     "data": {
      "image/png": "[encoded data removed]",
      "text/plain": [
       "<Figure size 432x288 with 1 Axes>"
      ]
     },
     "metadata": {
      "needs_background": "light"
     },
     "output_type": "display_data"
    }
   ],
   "source": [
    "\n",
    "sns.regplot(x=x_train, y=y_train, order=1)\n",
    "sns.set_theme(style='darkgrid')"
   ]
  },
  {
   "cell_type": "code",
   "execution_count": 16,
   "id": "9bcf6376-29aa-4663-87e1-904abfedb5f9",
   "metadata": {},
   "outputs": [
    {
     "data": {
      "text/plain": [
       "75.95894166934923"
      ]
     },
     "execution_count": 16,
     "metadata": {},
     "output_type": "execute_result"
    }
   ],
   "source": [
    "\n",
    "r2_score(y_test, y_predict)*100"
   ]
  },
  {
   "cell_type": "code",
   "execution_count": null,
   "id": "e0d509a4-b8c1-4ccf-9f8d-f90477d0cdab",
   "metadata": {},
   "outputs": [],
   "source": []
  }
 ],
 "metadata": {
  "kernelspec": {
   "display_name": "Python 3",
   "language": "python",
   "name": "python3"
  },
  "language_info": {
   "codemirror_mode": {
    "name": "ipython",
    "version": 3
   },
   "file_extension": ".py",
   "mimetype": "text/x-python",
   "name": "python",
   "nbconvert_exporter": "python",
   "pygments_lexer": "ipython3",
   "version": "3.9.4"
  }
 },
 "nbformat": 4,
 "nbformat_minor": 5
}
